{
 "cells": [
  {
   "cell_type": "markdown",
   "id": "56299965",
   "metadata": {},
   "source": [
    "# Eksploracja Danych - Prognozowanie Popytu\n",
    "\n",
    "Ten notebook zawiera analizę eksploracyjną danych (EDA) dla projektu prognozowania popytu na produkty w handlu.\n",
    "\n",
    "## Cele analizy:\n",
    "- Załadowanie i wstępne zapoznanie się z danymi\n",
    "- Analiza rozkładów zmiennych\n",
    "- Identyfikacja trendów czasowych\n",
    "- Wykrywanie sezonowości\n",
    "- Analiza outlierów i brakujących danych"
   ]
  },
  {
   "cell_type": "code",
   "execution_count": null,
   "id": "8ba2676e",
   "metadata": {},
   "outputs": [],
   "source": [
    "# Import bibliotek\n",
    "import pandas as pd\n",
    "import numpy as np\n",
    "import matplotlib.pyplot as plt\n",
    "import seaborn as sns\n",
    "import plotly.express as px\n",
    "import plotly.graph_objects as go\n",
    "from plotly.subplots import make_subplots\n",
    "\n",
    "# Konfiguracja wyświetlania\n",
    "plt.style.use('seaborn-v0_8')\n",
    "sns.set_palette(\"husl\")\n",
    "pd.set_option('display.max_columns', None)\n",
    "pd.set_option('display.max_rows', 100)"
   ]
  },
  {
   "cell_type": "markdown",
   "id": "3e011365",
   "metadata": {},
   "source": [
    "## 1. Ładowanie danych"
   ]
  },
  {
   "cell_type": "code",
   "execution_count": null,
   "id": "84cbea08",
   "metadata": {},
   "outputs": [],
   "source": [
    "# Załadowanie danych Online Retail II"
   ]
  },
  {
   "cell_type": "markdown",
   "id": "3f80e461",
   "metadata": {},
   "source": [
    "## 2. Podstawowe informacje o danych"
   ]
  },
  {
   "cell_type": "code",
   "execution_count": null,
   "id": "0f906df7",
   "metadata": {},
   "outputs": [],
   "source": [
    "# Podstawowe statystyki opisowe"
   ]
  },
  {
   "cell_type": "markdown",
   "id": "4f6d7225",
   "metadata": {},
   "source": [
    "## 3. Analiza szeregów czasowych"
   ]
  },
  {
   "cell_type": "code",
   "execution_count": null,
   "id": "5d06bece",
   "metadata": {},
   "outputs": [],
   "source": [
    "# Analiza trendów czasowych i sezonowości"
   ]
  },
  {
   "cell_type": "markdown",
   "id": "f02c38d8",
   "metadata": {},
   "source": [
    "## 4. Analiza sprzedaży według krajów"
   ]
  },
  {
   "cell_type": "code",
   "execution_count": null,
   "id": "86b42800",
   "metadata": {},
   "outputs": [],
   "source": [
    "# Analiza geograficzna sprzedaży"
   ]
  },
  {
   "cell_type": "markdown",
   "id": "f80a6b3c",
   "metadata": {},
   "source": [
    "## 5. Analiza produktów i kategorii"
   ]
  },
  {
   "cell_type": "code",
   "execution_count": null,
   "id": "2c69b959",
   "metadata": {},
   "outputs": [],
   "source": [
    "# Analiza najpopularniejszych produktów"
   ]
  },
  {
   "cell_type": "markdown",
   "id": "0f6da58c",
   "metadata": {},
   "source": [
    "## 6. Wnioski z analizy eksploracyjnej"
   ]
  },
  {
   "cell_type": "markdown",
   "id": "eea150e7",
   "metadata": {},
   "source": [
    "### Główne obserwacje:\n",
    "- [Do uzupełnienia po analizie]\n",
    "\n",
    "### Implikacje dla modelowania:\n",
    "- [Do uzupełnienia po analizie]"
   ]
  }
 ],
 "metadata": {
  "language_info": {
   "name": "python"
  }
 },
 "nbformat": 4,
 "nbformat_minor": 5
}
