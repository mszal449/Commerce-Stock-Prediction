{
 "cells": [
  {
   "cell_type": "markdown",
   "id": "d7470065",
   "metadata": {},
   "source": [
    "# Modele Bazowe - Regresja Liniowa i Prophet\n",
    "\n",
    "Ten notebook implementuje modele bazowe dla prognozowania popytu, które będą służyć jako punkt odniesienia dla modeli neuronowych.\n",
    "\n",
    "## Modele bazowe:\n",
    "- Regresja liniowa z cechami czasowymi\n",
    "- Prophet (model Facebook do szeregów czasowych)\n",
    "- Średnia ruchoma\n",
    "- Naiwny model sezonowy"
   ]
  },
  {
   "cell_type": "code",
   "execution_count": null,
   "id": "d5cafa75",
   "metadata": {},
   "outputs": [],
   "source": [
    "# Import bibliotek\n",
    "import pandas as pd\n",
    "import numpy as np\n",
    "import matplotlib.pyplot as plt\n",
    "import seaborn as sns\n",
    "from sklearn.linear_model import LinearRegression\n",
    "from sklearn.metrics import mean_absolute_error, mean_squared_error, r2_score\n",
    "from prophet import Prophet\n",
    "import joblib\n",
    "import sys\n",
    "sys.path.append('../src')"
   ]
  },
  {
   "cell_type": "markdown",
   "id": "dc6f26ef",
   "metadata": {},
   "source": [
    "## 1. Ładowanie przetworzonych danych"
   ]
  },
  {
   "cell_type": "code",
   "execution_count": null,
   "id": "7749d61b",
   "metadata": {},
   "outputs": [],
   "source": [
    "# Ładowanie danych z etapu preprocessing"
   ]
  },
  {
   "cell_type": "markdown",
   "id": "c9e37ceb",
   "metadata": {},
   "source": [
    "## 2. Model regresji liniowej"
   ]
  },
  {
   "cell_type": "code",
   "execution_count": null,
   "id": "b65a2062",
   "metadata": {},
   "outputs": [],
   "source": [
    "# Implementacja i trenowanie regresji liniowej"
   ]
  },
  {
   "cell_type": "markdown",
   "id": "8962d6ef",
   "metadata": {},
   "source": [
    "## 3. Model Prophet"
   ]
  },
  {
   "cell_type": "code",
   "execution_count": null,
   "id": "f196c5ce",
   "metadata": {},
   "outputs": [],
   "source": [
    "# Przygotowanie danych dla Prophet (ds, y)"
   ]
  },
  {
   "cell_type": "code",
   "execution_count": null,
   "id": "9a3fa26e",
   "metadata": {},
   "outputs": [],
   "source": [
    "# Trenowanie modelu Prophet"
   ]
  },
  {
   "cell_type": "code",
   "execution_count": null,
   "id": "07a2d739",
   "metadata": {},
   "outputs": [],
   "source": [
    "# Generowanie prognoz Prophet"
   ]
  },
  {
   "cell_type": "markdown",
   "id": "66dae094",
   "metadata": {},
   "source": [
    "## 4. Modele naiwne"
   ]
  },
  {
   "cell_type": "code",
   "execution_count": null,
   "id": "7ed28a28",
   "metadata": {},
   "outputs": [],
   "source": [
    "# Średnia ruchoma i model sezonowy"
   ]
  },
  {
   "cell_type": "markdown",
   "id": "bb338bcf",
   "metadata": {},
   "source": [
    "## 5. Ewaluacja modeli bazowych"
   ]
  },
  {
   "cell_type": "code",
   "execution_count": null,
   "id": "905f1723",
   "metadata": {},
   "outputs": [],
   "source": [
    "# Obliczenie metryk MAE, RMSE, R²"
   ]
  },
  {
   "cell_type": "markdown",
   "id": "c775e635",
   "metadata": {},
   "source": [
    "## 6. Wizualizacja wyników"
   ]
  },
  {
   "cell_type": "code",
   "execution_count": null,
   "id": "0ab8e070",
   "metadata": {},
   "outputs": [],
   "source": [
    "# Wykresy porównawcze prognoz vs rzeczywiste wartości"
   ]
  },
  {
   "cell_type": "markdown",
   "id": "4c6df868",
   "metadata": {},
   "source": [
    "## 7. Zapisanie modeli i wyników"
   ]
  },
  {
   "cell_type": "code",
   "execution_count": null,
   "id": "e336b165",
   "metadata": {},
   "outputs": [],
   "source": [
    "# Zapis wytrenowanych modeli i metryk"
   ]
  }
 ],
 "metadata": {
  "language_info": {
   "name": "python"
  }
 },
 "nbformat": 4,
 "nbformat_minor": 5
}
